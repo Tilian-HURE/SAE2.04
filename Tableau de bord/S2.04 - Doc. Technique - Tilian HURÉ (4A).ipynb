{
 "cells": [
  {
   "cell_type": "markdown",
   "metadata": {},
   "source": [
    "# SAE 2.04 - Documentation Technique"
   ]
  },
  {
   "cell_type": "markdown",
   "metadata": {},
   "source": [
    "***Tilian HURÉ (4A)***\n",
    "\n",
    "**Note :** Par manque de temps et de connaissance en la librairie `Matplotlib`, seul les graphiques et les schémas seront élaborés avec du code `python`. <br>\n",
    "Les légendes et autres données supplémentaires seront ajoutées par édition externe pour plus de possiblité de customisation et en moins de temps."
   ]
  },
  {
   "cell_type": "markdown",
   "metadata": {},
   "source": [
    "## Importation des librairies\n",
    "\n",
    "Certaines librairies python sont primordiales pour obtenir, manipuler et rendre visualisable les données souhaitées.\n",
    "\n",
    "Librairies utilisées :\n",
    "* `matplotlib` pour la création des schémas visuelles\n",
    "* `numpy` pour la manipulation et le formatage de certaines données\n",
    "* `cx_Oracle` pour se connecter à une base données et récupérer les données souhaitées via des requêtes SQL-LID\n",
    "* `random` pour réaliser certains choix de manière alétoire (nombres, couleurs, etc)"
   ]
  },
  {
   "cell_type": "code",
   "execution_count": 456,
   "metadata": {},
   "outputs": [],
   "source": [
    "import matplotlib.pyplot as plt\n",
    "import numpy as np\n",
    "import cx_Oracle\n",
    "from random import randint"
   ]
  },
  {
   "cell_type": "markdown",
   "metadata": {},
   "source": [
    "\n",
    "## Connexion à la base de données Oracle\n",
    "\n",
    "La première étape consiste à se connecter à la base de données Oracle sur laquelle se trouve les données sur lesquelles vons se baser les schémas et graphiques qui vont suivre."
   ]
  },
  {
   "cell_type": "code",
   "execution_count": 457,
   "metadata": {},
   "outputs": [],
   "source": [
    "# Données de connexion du DNS\n",
    "dsn = cx_Oracle.makedsn(host='oracle.iut-blagnac.fr', port=1521, sid='db11g')\n",
    "\n",
    "\n",
    "# Données de connexion à la base de données (avec les données du DNS)\n",
    "connexion = cx_Oracle.connect(user = \"SAEBD43\", \n",
    "                               password = \"Anet0IUT\",\n",
    "                               dsn = dsn,\n",
    "                               encoding = \"UTF-8\")\n",
    "\n",
    "\n",
    "# Création d'un curseur avec la connexion à la base de données\n",
    "curseur = connexion.cursor()"
   ]
  },
  {
   "cell_type": "markdown",
   "metadata": {},
   "source": [
    "## Fonctions utiles\n",
    "\n",
    "Quelques fonctions utiles pouvant être utilisées dans le traitement de données et la mise en forme des schémas."
   ]
  },
  {
   "cell_type": "code",
   "execution_count": 458,
   "metadata": {},
   "outputs": [],
   "source": [
    "def get_random_hexa_color():\n",
    "    \"\"\":return: une couleur hexadécimale générée aléatoirement\"\"\"\n",
    "    return '#'+''.join(hex(randint(0, 15)).replace('0x', '') for i in range(6)).upper()"
   ]
  },
  {
   "cell_type": "markdown",
   "metadata": {},
   "source": [
    "## Scripts\n",
    "\n",
    "Scripts SQL-LID d'interrogation de la base de données, ainsi que le code python nécessaire pour formater et rendre les données récupérées visualisables sous la forme de schémas adaptés."
   ]
  },
  {
   "cell_type": "markdown",
   "metadata": {},
   "source": [
    "### Nombres de clients\n",
    "\n",
    "Données générales sur les clients :\n",
    "* Nombre de clients total\n",
    "* Nombre de clients ayant réalisé une ou plus commande\n",
    "* Nombre de clients n'ayant pas réalisé de commande"
   ]
  },
  {
   "cell_type": "code",
   "execution_count": 459,
   "metadata": {},
   "outputs": [
    {
     "data": {
      "image/png": "[encoded data removed]",
      "text/plain": [
       "<Figure size 504x504 with 1 Axes>"
      ]
     },
     "metadata": {
      "needs_background": "light"
     },
     "output_type": "display_data"
    }
   ],
   "source": [
    "# Requêtes SQL-LID\n",
    "curseur.execute(\"SELECT COUNT(numClient) FROM Client\") # nombre de clients total\n",
    "nbClients = [list(curseur)[0][0]]\n",
    "\n",
    "curseur.execute(\n",
    "    \"SELECT COUNT(numClient) FROM Client \\\n",
    "    WHERE numClient IN ( \\\n",
    "        SELECT numClient FROM Client \\\n",
    "        INTERSECT \\\n",
    "        SELECT numClient FROM Commande)\") # nombre de clients ayant commandé\n",
    "nbClients.append(list(curseur)[0][0])\n",
    "\n",
    "curseur.execute(\n",
    "    \"SELECT COUNT(numClient) FROM Client \\\n",
    "    WHERE numClient IN ( \\\n",
    "        SELECT numClient FROM Client \\\n",
    "        MINUS \\\n",
    "        SELECT numClient FROM Commande)\") # nombre de clients sans commande\n",
    "nbClients.append(list(curseur)[0][0])\n",
    "\n",
    "    ##print(nbClients)\n",
    "\n",
    "\n",
    "# Définition des propriétés visuelles du diagramme en bâton\n",
    "colormap = plt.get_cmap('tab20c') # palette de couleurs\n",
    "colors = [colormap(i) for i in range(len(nbClients))]\n",
    "\n",
    "\n",
    "# Initialisation du diagramme en bâton\n",
    "plt.subplots(figsize=(7, 7)) # création du schéma\n",
    "plt.ylim(0, 23)\n",
    "X_axis = np.arange(len(nbClients))\n",
    "plt.xticks(X_axis, [], fontsize=12)\n",
    "plt.yticks(fontsize=14)\n",
    "\n",
    "plt.bar(X_axis-0.2, nbClients, 0.4, label='Nombre de clients', color=colors) # création du diagramme en bâton\n",
    "\n",
    "for i, ca in enumerate(nbClients): # pourcentages des bâtons\n",
    "    plt.text(i-0.255, ca+0.85, ca, fontweight='bold', fontsize=12)\n",
    "\n",
    "\n",
    "# Sauvegarde et affichage du schéma\n",
    "plt.savefig(\"graphics/nbClients.svg\", bbox_extra_artists=(legend,), bbox_inches='tight', transparent=True)\n",
    "plt.show()"
   ]
  },
  {
   "cell_type": "markdown",
   "metadata": {},
   "source": [
    "### Montant des ventes par pays\n",
    "\n",
    "Montants totaux de toutes les commandes en fonction des pays des clients ayant passé au moins une commande."
   ]
  },
  {
   "cell_type": "code",
   "execution_count": 460,
   "metadata": {},
   "outputs": [
    {
     "data": {
      "image/png": "[encoded data removed]",
      "text/plain": [
       "<Figure size 504x504 with 1 Axes>"
      ]
     },
     "metadata": {},
     "output_type": "display_data"
    }
   ],
   "source": [
    "# Requête SQL-LID\n",
    "curseur.execute(\n",
    "    \"SELECT ROUND(SUM(CO.montantTTC)) AS Montant_ventes, C.adrPaysClient AS Pays \\\n",
    "    FROM Commande CO, Client C, Etiquette E \\\n",
    "    WHERE C.codeEtiquette = E.codeEtiquette \\\n",
    "    AND CO.numClient = C.numClient \\\n",
    "    GROUP BY C.adrPaysClient, E.codeTypeTVA \\\n",
    "    ORDER BY Pays DESC\")\n",
    "\n",
    "\n",
    "# Récupération des données\n",
    "donnees = list(curseur)[:] # copie du curseur\n",
    "montantVentes = [mv[0] for mv in donnees]\n",
    "pays = [p[1] for p in donnees]\n",
    "    ##print(donnees, montantVentes, pays)\n",
    "\n",
    "    \n",
    "# Définition des propriétés visuelles de la tarte graphique\n",
    "explodes = [0, 0, 0.05, 0] ## + [0 for i in range(len(donnees)-1)] # 'explosures' de la tarte\n",
    "colormap = plt.get_cmap('tab20c') # palette de couleurs\n",
    "colors = [colormap(i+8) for i in range(len(donnees))]\n",
    "\n",
    "    \n",
    "# Initialisation de la tarte graphique\n",
    "plt.subplots(figsize=(7, 7)) # création du schéma\n",
    "plt.pie(montantVentes, wedgeprops={'linewidth':0, 'edgecolor':\"white\"},\n",
    "         autopct='%1.1f%%', shadow=False, startangle=90,\n",
    "         textprops={'color':'black', 'size':18, 'fontweight':'bold'}, colors=colors,\n",
    "         explode=explodes, pctdistance=0.5) #création de la tarte\n",
    "\n",
    "\n",
    "# Sauvegarde et affichage du schéma\n",
    "plt.savefig(\"graphics/ventesParPays.svg\", bbox_extra_artists=(legend,), bbox_inches='tight', transparent=True)\n",
    "plt.show()"
   ]
  },
  {
   "cell_type": "markdown",
   "metadata": {},
   "source": [
    "### Meilleurs clients par pays\n",
    "\n",
    "Clients avec les plus gros chiffres d'affaires parmi tous les clients de leurs pays."
   ]
  },
  {
   "cell_type": "code",
   "execution_count": 461,
   "metadata": {},
   "outputs": [
    {
     "data": {
      "image/png": "[encoded data removed]",
      "text/plain": [
       "<Figure size 504x504 with 1 Axes>"
      ]
     },
     "metadata": {
      "needs_background": "light"
     },
     "output_type": "display_data"
    }
   ],
   "source": [
    "# Requêtes SQL-LID\n",
    "curseur.execute(\n",
    "    \"SELECT C.adrPaysClient AS Pays, C.nomClient AS Client, ROUND(SUM(CO.montantTTC)) AS Montant_ventes \\\n",
    "    FROM Client C, Commande CO \\\n",
    "    WHERE CO.numClient = C.numClient \\\n",
    "    GROUP BY C.adrPaysClient, C.nomClient, C.codeEtiquette \\\n",
    "    HAVING ROUND(SUM(CO.montantTTC)) >= ALL ( \\\n",
    "        SELECT ROUND(SUM(CO2.montantTTC)) AS Montant_ventes \\\n",
    "        FROM Client C2, Commande CO2, Etiquette E2 \\\n",
    "        WHERE C2.codeEtiquette = C.codeEtiquette \\\n",
    "        AND CO2.numClient = C2.numClient \\\n",
    "        AND E2.codeEtiquette = C2.codeEtiquette \\\n",
    "        GROUP BY C2.nomClient, E2.codeTypeTVA) \\\n",
    "    ORDER BY Pays DESC\")\n",
    "\n",
    "\n",
    "# Récupération des données\n",
    "donnees = list(curseur)[:] # copie du curseur\n",
    "clients = [client[1] for client in donnees]\n",
    "chiffresAffaires = [ca[2] for ca in donnees]\n",
    "    ##print(donnees, clients, chiffresAffaires)\n",
    "\n",
    "\n",
    "# Affichage dans la console\n",
    "def afficher1():\n",
    "    print('Meilleurs clients par pays :')\n",
    "    for client in donnees:\n",
    "        print('Pays :', client[0], '\\n    - Meilleur client :', client[1], '\\n    - Chiffre d\\'affaire :', client[2])\n",
    "        \n",
    "    ##afficher1()\n",
    "    \n",
    "\n",
    "# Définition des propriétés visuelles du diagramme en bâton\n",
    "colormap = plt.get_cmap('tab20c') # palette de couleurs\n",
    "colors = [colormap(i+8) for i in range(len(donnees))]\n",
    "\n",
    "\n",
    "# Initialisation du diagramme en bâton\n",
    "plt.subplots(figsize=(7, 7)) # création du schéma\n",
    "plt.ylim(20000, 70000)\n",
    "X_axis = np.arange(len(clients))\n",
    "plt.xticks(X_axis, [], fontsize=12)\n",
    "plt.yticks(fontsize=14)\n",
    "\n",
    "plt.bar(X_axis-0.2, chiffresAffaires, 0.4, label='Chiffres d\\'affaires', color=colors) # création du diagramme en bâton\n",
    "\n",
    "for i, ca in enumerate(chiffresAffaires): # pourcentages des bâtons\n",
    "    plt.text(i-0.4, ca+10**3.25, ca, fontweight='bold', fontsize=12)\n",
    "\n",
    "\n",
    "# Sauvegarde et affichage du schéma\n",
    "plt.savefig(\"graphics/clientsParPays.svg\", bbox_extra_artists=(legend,), bbox_inches='tight', transparent=True)\n",
    "plt.show()"
   ]
  },
  {
   "cell_type": "markdown",
   "metadata": {},
   "source": [
    "### Catégories les plus sollicitées par pays\n",
    "\n",
    "Catégories concernées par les articles les plus achetés dans les pays des clients ayant réalisé au moins une commande."
   ]
  },
  {
   "cell_type": "code",
   "execution_count": 462,
   "metadata": {},
   "outputs": [
    {
     "data": {
      "image/png": "[encoded data removed]",
      "text/plain": [
       "<Figure size 504x504 with 1 Axes>"
      ]
     },
     "metadata": {
      "needs_background": "light"
     },
     "output_type": "display_data"
    }
   ],
   "source": [
    "# Requêtes SQL-LID\n",
    "curseur.execute(\n",
    "    \"SELECT C.adrPaysClient AS Pays, CA.libelleCategorie AS Categorie, \\\n",
    "        ROUND(SUM(TV.prixVente * DC.quantiteCommandee)) AS Montant_ventes \\\n",
    "    FROM Client C, Categorie CA, Commande CO, Detail_Commande DC, Article A, Tarif_Vente TV \\\n",
    "    WHERE CO.numClient = C.numClient \\\n",
    "    AND DC.numCommande = CO.numCommande \\\n",
    "    AND A.numArticle = DC.numArticle \\\n",
    "    AND CA.numCategorie = A.numCategorie \\\n",
    "    AND TV.numArticle = A.numArticle \\\n",
    "    GROUP BY C.adrPaysClient, CA.libelleCategorie, TV.prixVente, DC.quantiteCommandee, C.codeEtiquette \\\n",
    "    HAVING ROUND(SUM(TV.prixVente * DC.quantiteCommandee)) >= ALL ( \\\n",
    "        SELECT ROUND(SUM(TV2.prixVente * DC2.quantiteCommandee)) AS Montant_ventes \\\n",
    "        FROM Client C2, Categorie CA2, Commande CO2, Detail_Commande DC2, Article A2, Tarif_Vente TV2 \\\n",
    "        WHERE C2.codeEtiquette = C.codeEtiquette \\\n",
    "        AND CO2.numClient = C2.numClient \\\n",
    "        AND DC2.numCommande = CO2.numCommande \\\n",
    "        AND A2.numArticle = DC2.numArticle \\\n",
    "        AND CA2.numCategorie = A2.numCategorie \\\n",
    "        AND TV2.numArticle = A2.numArticle \\\n",
    "        GROUP BY CA.libelleCategorie, A2.numArticle, TV2.prixVente, DC2.quantiteCommandee) \\\n",
    "    ORDER BY Pays DESC\")\n",
    "\n",
    "\n",
    "# Récupération des données\n",
    "donnees = list(curseur)[:] # copie du curseur\n",
    "categories = [cat[1] for cat in donnees]\n",
    "montantVentes = [mv[2] for mv in donnees]\n",
    "    ##print(donnees, categories, montantVentes)\n",
    "\n",
    "\n",
    "# Affichage dans la console\n",
    "def afficher2():\n",
    "    print('Catégories les plus sollicitées par pays :')\n",
    "    for categorie in donnees:\n",
    "        print('Pays :', categorie[0], '\\n    - Catégorie la plus sollicitée :', categorie[1], '\\n    - Montant des ventes total :', categorie[2])\n",
    "        \n",
    "    ##afficher2()\n",
    "    \n",
    "    \n",
    "# Définition des propriétés visuelles du diagramme en bâton\n",
    "colormap = plt.get_cmap('tab20c') # palette de couleurs\n",
    "colors = [colormap(i+8) for i in range(len(donnees))]\n",
    "\n",
    "\n",
    "# Initialisation du diagramme en bâton\n",
    "plt.subplots(figsize=(7, 7)) # création du schéma\n",
    "plt.ylim(5000, 50000)\n",
    "X_axis = np.arange(len(categories))\n",
    "plt.xticks(X_axis, [], fontsize=12)\n",
    "plt.yticks(fontsize=14)\n",
    "\n",
    "plt.bar(X_axis-0.2, montantVentes, 0.4, label='Montant des ventes total', color=colors) # création du diagramme en bâton\n",
    "\n",
    "for i, mv in enumerate(montantVentes): # pourcentages des bâtons\n",
    "    plt.text(i-0.4, mv+10**3.25, mv, fontweight='bold', fontsize=12)\n",
    "\n",
    "\n",
    "# Sauvegarde et affichage du schéma\n",
    "plt.savefig(\"graphics/categoriesParPays.svg\", bbox_extra_artists=(legend,), bbox_inches='tight', transparent=True)\n",
    "plt.show()"
   ]
  },
  {
   "cell_type": "markdown",
   "metadata": {},
   "source": [
    "### Montants des ventes par catégorie\n",
    "\n",
    "Montants totaux des articles commandés pour chaque catégories."
   ]
  },
  {
   "cell_type": "code",
   "execution_count": 463,
   "metadata": {},
   "outputs": [
    {
     "data": {
      "image/png": "[encoded data removed]",
      "text/plain": [
       "<Figure size 504x504 with 1 Axes>"
      ]
     },
     "metadata": {},
     "output_type": "display_data"
    }
   ],
   "source": [
    "# Requête SQL-LID\n",
    "curseur.execute(\n",
    "    \"SELECT Ca.libelleCategorie AS Categorie, ROUND(SUM(TV.prixVente * DC.quantiteCommandee)) AS Montant_ventes \\\n",
    "    FROM Article A, Detail_Commande DC, Categorie Ca, Commande CO, Tarif_vente TV \\\n",
    "    WHERE A.numArticle = DC.numArticle \\\n",
    "    AND CA.numCategorie = A.numCategorie \\\n",
    "    AND CO.numCommande = DC.numCommande \\\n",
    "    AND TV.numArticle = A.numArticle \\\n",
    "    GROUP BY Ca.libelleCategorie \\\n",
    "    ORDER BY Categorie DESC\")\n",
    "\n",
    "\n",
    "# Récupération des données\n",
    "donnees = list(curseur)[:] # copie du curseur\n",
    "categories = [cat[0] for cat in donnees]\n",
    "montantVentes = [mv[1] for mv in donnees]\n",
    "    ##print(donnees, montantVentes, categories)\n",
    "\n",
    "    \n",
    "# Définition des propriétés visuelles de la tarte graphique\n",
    "explodes = [0.05] + [0 for i in range(len(donnees)-1)] # 'explosures' de la tarte\n",
    "colormap = plt.get_cmap('tab20c') # palette de couleurs\n",
    "colors = [colormap(i+4) for i in range(len(donnees))]\n",
    "\n",
    "    \n",
    "# Initialisation de la tarte graphique\n",
    "plt.subplots(figsize=(7, 7)) # création du schéma\n",
    "plt.pie(montantVentes, wedgeprops={'linewidth':0, 'edgecolor':\"white\"},\n",
    "         autopct='%1.1f%%', shadow=False, startangle=90, colors=colors,\n",
    "         textprops={'color':'black', 'size':16, 'fontweight':'bold'},\n",
    "         explode=explodes, pctdistance=0.5) #création de la tarte\n",
    "\n",
    "\n",
    "# Sauvegarde et affichage du schéma\n",
    "plt.savefig(\"graphics/ventesParCategorie.svg\", bbox_extra_artists=(legend,), bbox_inches='tight', transparent=True)\n",
    "plt.show()"
   ]
  },
  {
   "cell_type": "markdown",
   "metadata": {},
   "source": [
    "### Articles les plus vendus par catégories"
   ]
  },
  {
   "cell_type": "code",
   "execution_count": 464,
   "metadata": {},
   "outputs": [
    {
     "data": {
      "image/png": "[encoded data removed]",
      "text/plain": [
       "<Figure size 504x504 with 1 Axes>"
      ]
     },
     "metadata": {
      "needs_background": "light"
     },
     "output_type": "display_data"
    }
   ],
   "source": [
    "# Requêtes SQL-LID\n",
    "curseur.execute(\n",
    "    \"SELECT CA.libelleCategorie AS Categorie, A.nomArticle, ROUND(SUM(TV.prixVente * DC.quantiteCommandee)) AS Montant_ventes \\\n",
    "    FROM Article A, Categorie CA, Detail_Commande DC, Tarif_vente TV \\\n",
    "    WHERE CA.numCategorie = A.numCategorie \\\n",
    "    AND DC.numArticle = A.numArticle \\\n",
    "    AND TV.numArticle = A.numArticle \\\n",
    "    GROUP BY CA.libelleCategorie, A.nomArticle, A.numCategorie, TV.prixVente, DC.quantiteCommandee \\\n",
    "    HAVING ROUND(SUM(TV.prixVente * DC.quantiteCommandee)) >= ALL ( \\\n",
    "        SELECT ROUND(SUM(TV2.prixVente * DC2.quantiteCommandee)) AS Montant_ventes \\\n",
    "        FROM Article A2, Detail_Commande DC2, Tarif_Vente TV2 \\\n",
    "        WHERE A2.numCategorie = A.numCategorie \\\n",
    "        AND DC2.numArticle = A2.numArticle \\\n",
    "        AND TV2.numArticle = A2.numArticle \\\n",
    "        GROUP BY A2.numArticle, TV2.prixVente, DC2.quantiteCommandee) \\\n",
    "    ORDER BY Categorie DESC\")\n",
    "\n",
    "\n",
    "# Récupération des données\n",
    "donnees = list(curseur)[:] # copie du curseur\n",
    "articles = [art[1] for art in donnees]\n",
    "montantVentes = [mv[2] for mv in donnees]\n",
    "    ##print(donnees,articles, montantVentes)\n",
    "\n",
    "\n",
    "# Affichage dans la console\n",
    "def afficher3():\n",
    "    print('Articles les plus vendus par catégories :')\n",
    "    for article in donnees:\n",
    "        print('Catégorie :', article[0], '\\n    - Article le plus vendu :', article[1], '\\n    - Montant des ventes total :', article[2])\n",
    "        \n",
    "    ##afficher3()\n",
    "    \n",
    "    \n",
    "# Définition des propriétés visuelles du diagramme en bâton\n",
    "colormap = plt.get_cmap('tab20c') # palette de couleurs\n",
    "colors = [colormap(i+4) for i in range(len(donnees))]\n",
    "\n",
    "\n",
    "# Initialisation du diagramme en bâton\n",
    "plt.subplots(figsize=(7, 7)) # création du schéma\n",
    "plt.ylim(0, 65000)\n",
    "X_axis = np.arange(len(articles))\n",
    "plt.xticks(X_axis, [], fontsize=12)\n",
    "plt.yticks(fontsize=14)\n",
    "\n",
    "plt.bar(X_axis-0.2, montantVentes, 0.4, label='Montant des ventes total', color=colors) # création du diagramme en bâton\n",
    "\n",
    "for i, mv in enumerate(montantVentes): # pourcentages des bâtons\n",
    "    if mv < 1000:\n",
    "        plt.text(i-0.36, mv+10**3.25, mv, fontweight='bold', fontsize=12)\n",
    "    elif mv < 10000:\n",
    "        plt.text(i-0.4, mv+10**3.25, mv, fontweight='bold', fontsize=12)\n",
    "    else:\n",
    "        plt.text(i-0.455, mv+10**3.25, mv, fontweight='bold', fontsize=12)\n",
    "\n",
    "\n",
    "# Sauvegarde et affichage du schéma\n",
    "plt.savefig(\"graphics/articlesParCategorie.svg\", bbox_extra_artists=(legend,), bbox_inches='tight', transparent=True)\n",
    "plt.show()"
   ]
  },
  {
   "cell_type": "markdown",
   "metadata": {},
   "source": [
    "### Commandes défectueuses sur les trois derniers mois"
   ]
  },
  {
   "cell_type": "markdown",
   "metadata": {},
   "source": [
    "En suivant les trois défauts de commandes suivant :\n",
    "* commandes non-livrées\n",
    "* commandes livrées partiellement\n",
    "* commandes livrées en trop grand quantité"
   ]
  },
  {
   "cell_type": "code",
   "execution_count": 465,
   "metadata": {},
   "outputs": [
    {
     "data": {
      "image/png": "[encoded data removed]",
      "text/plain": [
       "<Figure size 504x504 with 1 Axes>"
      ]
     },
     "metadata": {
      "needs_background": "light"
     },
     "output_type": "display_data"
    }
   ],
   "source": [
    "# Requêtes SQL-LID\n",
    "curseur.execute(\n",
    "    \"SELECT TO_CHAR(dateCommande, 'MONTH') AS Mois, COUNT(numCommande) AS Nb_commandes_defectueuses \\\n",
    "    FROM Commande \\\n",
    "    WHERE numCommande IN ( \\\n",
    "        SELECT numCommande \\\n",
    "        FROM Detail_Commande \\\n",
    "        WHERE quantiteLivree = 0 \\\n",
    "        OR quantiteLivree < quantiteCommandee \\\n",
    "        OR quantiteLivree > quantiteCommandee) \\\n",
    "    GROUP BY TO_CHAR(dateCommande, 'MONTH'), TO_CHAR(dateCommande, 'mm') \\\n",
    "    ORDER BY TO_CHAR(dateCommande, 'mm') ASC\") # nombre de commandes défectueuses par mois\n",
    "donnees = list(curseur)[:] # copie du curseur\n",
    "\n",
    "curseur.execute(\n",
    "    \"SELECT TO_CHAR(dateCommande, 'MONTH') AS Mois, COUNT(DISTINCT numCommande) AS Nb_commandes_total \\\n",
    "    FROM Commande \\\n",
    "    GROUP BY TO_CHAR(dateCommande, 'MONTH'),TO_CHAR(dateCommande, 'mm') \\\n",
    "    ORDER BY TO_CHAR(dateCommande, 'mm') ASC\") # nombre total de commandes par mois\n",
    "donnees2 = list(curseur)[:] # copie du curseur\n",
    "\n",
    "\n",
    "# Récupération des données\n",
    "mois = [mon[0].replace(' ', '') for mon in donnees]\n",
    "nbCommandes = [cmd[1] for cmd in donnees]  \n",
    "nbTotalCmd = [tcmd[1] for tcmd in donnees2]\n",
    "    ##print(donnees, mois, nbCommandes, nbTotalCmd)\n",
    "\n",
    "\n",
    "# Définition des propriétés visuelles du diagramme en bâton\n",
    "colormap = plt.get_cmap('tab20c') # palette de couleurs\n",
    "color1 = colormap(12)\n",
    "color2 = colormap(13)\n",
    "    \n",
    "    \n",
    "# Initialisation du diagramme en bâton\n",
    "plt.subplots(figsize=(7, 7)) # création du schéma\n",
    "plt.ylim(0, 13)\n",
    "X_axis = np.arange(len(mois))\n",
    "plt.xticks(X_axis, mois, fontsize=14)\n",
    "plt.yticks(fontsize=14)\n",
    "\n",
    "plt.bar(X_axis-0.2, nbCommandes, 0.4, label='Commandes défectueuses', color=color1) # création du diagramme en bâton\n",
    "plt.bar(X_axis+0.2, nbTotalCmd, 0.4, label='Total de commandes', color=color2)\n",
    "\n",
    "for i, nbCmd in enumerate(nbCommandes): # pourcentages des bâtons\n",
    "    pourcentage = str(round((nbCmd/nbTotalCmd[i])*100, 1)) + '%'\n",
    "    plt.text(i-0.365, nbCmd+0.5, pourcentage, fontweight='bold', fontsize=12)\n",
    "    plt.text(i+0.07, nbTotalCmd[i]+0.5, '100%', fontsize=12)\n",
    "\n",
    "\n",
    "# Sauvegarde et affichage du schéma\n",
    "plt.savefig(\"graphics/commandesDefectueuses.svg\", bbox_extra_artists=(legend,), bbox_inches='tight', transparent=True)\n",
    "plt.show()"
   ]
  }
 ],
 "metadata": {
  "kernelspec": {
   "display_name": "Python 3",
   "language": "python",
   "name": "python3"
  },
  "language_info": {
   "codemirror_mode": {
    "name": "ipython",
    "version": 3
   },
   "file_extension": ".py",
   "mimetype": "text/x-python",
   "name": "python",
   "nbconvert_exporter": "python",
   "pygments_lexer": "ipython3",
   "version": "3.7.3"
  }
 },
 "nbformat": 4,
 "nbformat_minor": 4
}
